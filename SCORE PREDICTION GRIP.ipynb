{
 "cells": [
  {
   "cell_type": "markdown",
   "id": "8308f00e",
   "metadata": {},
   "source": [
    "# Data science and Business Analytics (GRIP March'22)"
   ]
  },
  {
   "cell_type": "markdown",
   "id": "85507169",
   "metadata": {},
   "source": [
    "## Author: Muskan Saluja"
   ]
  },
  {
   "cell_type": "markdown",
   "id": "abf1e41e",
   "metadata": {},
   "source": [
    "## TASK 1: To predict the score of a student who studies for 9.25 hours a day"
   ]
  },
  {
   "cell_type": "markdown",
   "id": "f916ea12",
   "metadata": {},
   "source": [
    "### 1) importing all required libraries"
   ]
  },
  {
   "cell_type": "code",
   "execution_count": 4,
   "id": "caa832d8",
   "metadata": {},
   "outputs": [],
   "source": [
    "import numpy as np\n",
    "import pandas as pd\n",
    "import matplotlib.pyplot as plt\n",
    "from sklearn.model_selection import train_test_split\n",
    "from sklearn.linear_model import LinearRegression\n",
    "from sklearn.metrics import mean_squared_error\n",
    "from sklearn.metrics import r2_score"
   ]
  },
  {
   "cell_type": "markdown",
   "id": "7b49ce64",
   "metadata": {},
   "source": [
    "### 2) importing and visualising data"
   ]
  },
  {
   "cell_type": "code",
   "execution_count": 5,
   "id": "1ae3badd",
   "metadata": {},
   "outputs": [
    {
     "name": "stdout",
     "output_type": "stream",
     "text": [
      "data imported successfully\n"
     ]
    },
    {
     "data": {
      "text/html": [
       "<div>\n",
       "<style scoped>\n",
       "    .dataframe tbody tr th:only-of-type {\n",
       "        vertical-align: middle;\n",
       "    }\n",
       "\n",
       "    .dataframe tbody tr th {\n",
       "        vertical-align: top;\n",
       "    }\n",
       "\n",
       "    .dataframe thead th {\n",
       "        text-align: right;\n",
       "    }\n",
       "</style>\n",
       "<table border=\"1\" class=\"dataframe\">\n",
       "  <thead>\n",
       "    <tr style=\"text-align: right;\">\n",
       "      <th></th>\n",
       "      <th>Hours</th>\n",
       "      <th>Scores</th>\n",
       "    </tr>\n",
       "  </thead>\n",
       "  <tbody>\n",
       "    <tr>\n",
       "      <th>0</th>\n",
       "      <td>2.5</td>\n",
       "      <td>21</td>\n",
       "    </tr>\n",
       "    <tr>\n",
       "      <th>1</th>\n",
       "      <td>5.1</td>\n",
       "      <td>47</td>\n",
       "    </tr>\n",
       "    <tr>\n",
       "      <th>2</th>\n",
       "      <td>3.2</td>\n",
       "      <td>27</td>\n",
       "    </tr>\n",
       "    <tr>\n",
       "      <th>3</th>\n",
       "      <td>8.5</td>\n",
       "      <td>75</td>\n",
       "    </tr>\n",
       "    <tr>\n",
       "      <th>4</th>\n",
       "      <td>3.5</td>\n",
       "      <td>30</td>\n",
       "    </tr>\n",
       "    <tr>\n",
       "      <th>5</th>\n",
       "      <td>1.5</td>\n",
       "      <td>20</td>\n",
       "    </tr>\n",
       "    <tr>\n",
       "      <th>6</th>\n",
       "      <td>9.2</td>\n",
       "      <td>88</td>\n",
       "    </tr>\n",
       "    <tr>\n",
       "      <th>7</th>\n",
       "      <td>5.5</td>\n",
       "      <td>60</td>\n",
       "    </tr>\n",
       "    <tr>\n",
       "      <th>8</th>\n",
       "      <td>8.3</td>\n",
       "      <td>81</td>\n",
       "    </tr>\n",
       "    <tr>\n",
       "      <th>9</th>\n",
       "      <td>2.7</td>\n",
       "      <td>25</td>\n",
       "    </tr>\n",
       "    <tr>\n",
       "      <th>10</th>\n",
       "      <td>7.7</td>\n",
       "      <td>85</td>\n",
       "    </tr>\n",
       "    <tr>\n",
       "      <th>11</th>\n",
       "      <td>5.9</td>\n",
       "      <td>62</td>\n",
       "    </tr>\n",
       "    <tr>\n",
       "      <th>12</th>\n",
       "      <td>4.5</td>\n",
       "      <td>41</td>\n",
       "    </tr>\n",
       "    <tr>\n",
       "      <th>13</th>\n",
       "      <td>3.3</td>\n",
       "      <td>42</td>\n",
       "    </tr>\n",
       "    <tr>\n",
       "      <th>14</th>\n",
       "      <td>1.1</td>\n",
       "      <td>17</td>\n",
       "    </tr>\n",
       "    <tr>\n",
       "      <th>15</th>\n",
       "      <td>8.9</td>\n",
       "      <td>95</td>\n",
       "    </tr>\n",
       "    <tr>\n",
       "      <th>16</th>\n",
       "      <td>2.5</td>\n",
       "      <td>30</td>\n",
       "    </tr>\n",
       "    <tr>\n",
       "      <th>17</th>\n",
       "      <td>1.9</td>\n",
       "      <td>24</td>\n",
       "    </tr>\n",
       "    <tr>\n",
       "      <th>18</th>\n",
       "      <td>6.1</td>\n",
       "      <td>67</td>\n",
       "    </tr>\n",
       "    <tr>\n",
       "      <th>19</th>\n",
       "      <td>7.4</td>\n",
       "      <td>69</td>\n",
       "    </tr>\n",
       "    <tr>\n",
       "      <th>20</th>\n",
       "      <td>2.7</td>\n",
       "      <td>30</td>\n",
       "    </tr>\n",
       "    <tr>\n",
       "      <th>21</th>\n",
       "      <td>4.8</td>\n",
       "      <td>54</td>\n",
       "    </tr>\n",
       "    <tr>\n",
       "      <th>22</th>\n",
       "      <td>3.8</td>\n",
       "      <td>35</td>\n",
       "    </tr>\n",
       "    <tr>\n",
       "      <th>23</th>\n",
       "      <td>6.9</td>\n",
       "      <td>76</td>\n",
       "    </tr>\n",
       "    <tr>\n",
       "      <th>24</th>\n",
       "      <td>7.8</td>\n",
       "      <td>86</td>\n",
       "    </tr>\n",
       "  </tbody>\n",
       "</table>\n",
       "</div>"
      ],
      "text/plain": [
       "    Hours  Scores\n",
       "0     2.5      21\n",
       "1     5.1      47\n",
       "2     3.2      27\n",
       "3     8.5      75\n",
       "4     3.5      30\n",
       "5     1.5      20\n",
       "6     9.2      88\n",
       "7     5.5      60\n",
       "8     8.3      81\n",
       "9     2.7      25\n",
       "10    7.7      85\n",
       "11    5.9      62\n",
       "12    4.5      41\n",
       "13    3.3      42\n",
       "14    1.1      17\n",
       "15    8.9      95\n",
       "16    2.5      30\n",
       "17    1.9      24\n",
       "18    6.1      67\n",
       "19    7.4      69\n",
       "20    2.7      30\n",
       "21    4.8      54\n",
       "22    3.8      35\n",
       "23    6.9      76\n",
       "24    7.8      86"
      ]
     },
     "execution_count": 5,
     "metadata": {},
     "output_type": "execute_result"
    }
   ],
   "source": [
    "url = \"https://raw.githubusercontent.com/AdiPersonalWorks/Random/master/student_scores%20-%20student_scores.csv\"\n",
    "s_data= pd.read_csv(url)\n",
    "print('data imported successfully')\n",
    "s_data"
   ]
  },
  {
   "cell_type": "markdown",
   "id": "363ccba1",
   "metadata": {},
   "source": [
    "### Plotting the data to observe a relationship"
   ]
  },
  {
   "cell_type": "code",
   "execution_count": 6,
   "id": "451e3ebd",
   "metadata": {},
   "outputs": [
    {
     "data": {
      "image/png": "[encoded data removed]",
      "text/plain": [
       "<Figure size 432x288 with 1 Axes>"
      ]
     },
     "metadata": {
      "needs_background": "light"
     },
     "output_type": "display_data"
    }
   ],
   "source": [
    "#using matplotlib library\n",
    "s_data.plot(x='Hours',y='Scores', style='o')\n",
    "plt.title('Relationship between hours studied and scores')\n",
    "plt.xlabel('Hours studied')\n",
    "plt.ylabel('Score')\n",
    "plt.show()"
   ]
  },
  {
   "cell_type": "markdown",
   "id": "c248fb72",
   "metadata": {},
   "source": [
    "### There appears to be a positive relationship between hours studied and score"
   ]
  },
  {
   "cell_type": "markdown",
   "id": "9a128277",
   "metadata": {},
   "source": [
    "### 4) Preparing data"
   ]
  },
  {
   "cell_type": "code",
   "execution_count": 7,
   "id": "d528e254",
   "metadata": {},
   "outputs": [],
   "source": [
    "# dividing data into test and train dataset\n",
    "# using test_train_split from scikit-learn library\n",
    "\n",
    "x= s_data.drop('Scores',axis=1)\n",
    "y= s_data['Scores']\n",
    "\n",
    "train_x,test_x,train_y,test_y= train_test_split(x,y,test_size=0.2,random_state=123)"
   ]
  },
  {
   "cell_type": "markdown",
   "id": "56a92a07",
   "metadata": {},
   "source": [
    "### 5) training the algorithm"
   ]
  },
  {
   "cell_type": "code",
   "execution_count": 8,
   "id": "6738af57",
   "metadata": {},
   "outputs": [
    {
     "name": "stdout",
     "output_type": "stream",
     "text": [
      "fitting of training data into linear regression is complete!\n"
     ]
    }
   ],
   "source": [
    "#fitting 80% of data as training data into linear regression algorithm\n",
    "lin= LinearRegression()\n",
    "lin.fit(train_x,train_y)\n",
    "\n",
    "print('fitting of training data into linear regression is complete!')"
   ]
  },
  {
   "cell_type": "code",
   "execution_count": 9,
   "id": "d71c75eb",
   "metadata": {},
   "outputs": [
    {
     "name": "stdout",
     "output_type": "stream",
     "text": [
      "intercept=2.6953889223457423,slope coefficient=[9.60171878]\n"
     ]
    }
   ],
   "source": [
    "print('intercept={},\\\n",
    "slope coefficient={}'.format(lin.intercept_,lin.coef_))"
   ]
  },
  {
   "cell_type": "code",
   "execution_count": 10,
   "id": "997489c6",
   "metadata": {},
   "outputs": [],
   "source": [
    "#equation of line\n",
    "\n",
    "line= lin.intercept_+lin.coef_*train_x"
   ]
  },
  {
   "cell_type": "code",
   "execution_count": 12,
   "id": "95b855b7",
   "metadata": {},
   "outputs": [
    {
     "data": {
      "image/png": "[encoded data removed]",
      "text/plain": [
       "<Figure size 432x288 with 1 Axes>"
      ]
     },
     "metadata": {
      "needs_background": "light"
     },
     "output_type": "display_data"
    }
   ],
   "source": [
    "#plotting with regression line now\n",
    "\n",
    "plt.scatter(train_x,train_y)\n",
    "plt.plot(train_x,line)\n",
    "plt.title('Score of student based on study hours(80% choesn randomly)')\n",
    "plt.xlabel('Hours')\n",
    "plt.ylabel('Scores')\n",
    "plt.show()"
   ]
  },
  {
   "cell_type": "code",
   "execution_count": 18,
   "id": "d72f9314",
   "metadata": {},
   "outputs": [
    {
     "data": {
      "image/png": "[encoded data removed]",
      "text/plain": [
       "<Figure size 432x288 with 1 Axes>"
      ]
     },
     "metadata": {
      "needs_background": "light"
     },
     "output_type": "display_data"
    }
   ],
   "source": [
    "#regression for test data\n",
    "\n",
    "line2= line= lin.intercept_+lin.coef_*test_x\n",
    "\n",
    "plt.scatter(test_x,test_y)\n",
    "plt.plot(test_x,line)\n",
    "plt.title('Score of student based on study hours(test data)')\n",
    "plt.xlabel('Hours')\n",
    "plt.ylabel('Scores')\n",
    "plt.show()"
   ]
  },
  {
   "cell_type": "markdown",
   "id": "e8f80557",
   "metadata": {},
   "source": [
    "### 6) projection of scores"
   ]
  },
  {
   "cell_type": "code",
   "execution_count": 19,
   "id": "dfaa4acc",
   "metadata": {},
   "outputs": [
    {
     "name": "stdout",
     "output_type": "stream",
     "text": [
      "    Hours\n",
      "5     1.5\n",
      "21    4.8\n",
      "22    3.8\n",
      "18    6.1\n",
      "15    8.9\n"
     ]
    }
   ],
   "source": [
    "print(test_x)\n",
    "pred_y=lin.predict(test_x)"
   ]
  },
  {
   "cell_type": "code",
   "execution_count": 22,
   "id": "e0f85c4e",
   "metadata": {},
   "outputs": [
    {
     "data": {
      "text/html": [
       "<div>\n",
       "<style scoped>\n",
       "    .dataframe tbody tr th:only-of-type {\n",
       "        vertical-align: middle;\n",
       "    }\n",
       "\n",
       "    .dataframe tbody tr th {\n",
       "        vertical-align: top;\n",
       "    }\n",
       "\n",
       "    .dataframe thead th {\n",
       "        text-align: right;\n",
       "    }\n",
       "</style>\n",
       "<table border=\"1\" class=\"dataframe\">\n",
       "  <thead>\n",
       "    <tr style=\"text-align: right;\">\n",
       "      <th></th>\n",
       "      <th>Actual</th>\n",
       "      <th>Predicted</th>\n",
       "    </tr>\n",
       "  </thead>\n",
       "  <tbody>\n",
       "    <tr>\n",
       "      <th>5</th>\n",
       "      <td>20</td>\n",
       "      <td>17.097967</td>\n",
       "    </tr>\n",
       "    <tr>\n",
       "      <th>21</th>\n",
       "      <td>54</td>\n",
       "      <td>48.783639</td>\n",
       "    </tr>\n",
       "    <tr>\n",
       "      <th>22</th>\n",
       "      <td>35</td>\n",
       "      <td>39.181920</td>\n",
       "    </tr>\n",
       "    <tr>\n",
       "      <th>18</th>\n",
       "      <td>67</td>\n",
       "      <td>61.265873</td>\n",
       "    </tr>\n",
       "    <tr>\n",
       "      <th>15</th>\n",
       "      <td>95</td>\n",
       "      <td>88.150686</td>\n",
       "    </tr>\n",
       "  </tbody>\n",
       "</table>\n",
       "</div>"
      ],
      "text/plain": [
       "    Actual  Predicted\n",
       "5       20  17.097967\n",
       "21      54  48.783639\n",
       "22      35  39.181920\n",
       "18      67  61.265873\n",
       "15      95  88.150686"
      ]
     },
     "execution_count": 22,
     "metadata": {},
     "output_type": "execute_result"
    }
   ],
   "source": [
    "#comparing actual scores with predictions\n",
    "\n",
    "s_data_compare=pd.DataFrame({'Actual': test_y,'Predicted': pred_y})\n",
    "\n",
    "s_data_compare"
   ]
  },
  {
   "cell_type": "code",
   "execution_count": 24,
   "id": "c9fe71e7",
   "metadata": {},
   "outputs": [
    {
     "name": "stdout",
     "output_type": "stream",
     "text": [
      "for no of hours [9.25], predicted score is [91.51128762]\n"
     ]
    }
   ],
   "source": [
    "#using 9.25 as a particular value and predicting score\n",
    "\n",
    "hours=[9.25]\n",
    "value=lin.predict([hours])\n",
    "\n",
    "print('for no of hours {}, predicted score is {}'.format(hours, value))"
   ]
  },
  {
   "cell_type": "markdown",
   "id": "a8fdbb40",
   "metadata": {},
   "source": [
    "### 7) checking accuracy of model"
   ]
  },
  {
   "cell_type": "code",
   "execution_count": 26,
   "id": "6145f0f1",
   "metadata": {},
   "outputs": [
    {
     "name": "stdout",
     "output_type": "stream",
     "text": [
      "mean_squared_error=26.582796488881087, r2 score=0.9605221627526419\n"
     ]
    }
   ],
   "source": [
    "print('mean_squared_error={}, r2 score={}'.format(mean_squared_error(test_y,pred_y),r2_score(test_y,pred_y)))"
   ]
  },
  {
   "cell_type": "markdown",
   "id": "3ed499cb",
   "metadata": {},
   "source": [
    "### So the R2 value is 0.96 which implies 96% of variation in average score of a student is explained by hours studied\n",
    "\n",
    "\n",
    "### TASK 1: COMPLETE"
   ]
  },
  {
   "cell_type": "code",
   "execution_count": null,
   "id": "87fd35c9",
   "metadata": {},
   "outputs": [],
   "source": []
  }
 ],
 "metadata": {
  "kernelspec": {
   "display_name": "Python 3",
   "language": "python",
   "name": "python3"
  },
  "language_info": {
   "codemirror_mode": {
    "name": "ipython",
    "version": 3
   },
   "file_extension": ".py",
   "mimetype": "text/x-python",
   "name": "python",
   "nbconvert_exporter": "python",
   "pygments_lexer": "ipython3",
   "version": "3.8.8"
  }
 },
 "nbformat": 4,
 "nbformat_minor": 5
}
